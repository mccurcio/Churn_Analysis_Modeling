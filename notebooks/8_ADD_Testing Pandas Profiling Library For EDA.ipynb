{
 "cells": [
  {
   "attachments": {},
   "cell_type": "markdown",
   "id": "76881e8d",
   "metadata": {},
   "source": [
    "# AD&D Churn Analysis And Modeling\n",
    "\n",
    "To:&emsp;&emsp;&emsp;[Magnimind](https://magnimindacademy.com/)\n",
    "\n",
    "From:&emsp;&nbsp;&nbsp;&nbsp;Matt Curcio, matt.curcio.us@gmail.com\n",
    "\n",
    "Date:&emsp;&emsp;2022-12-27\n",
    "\n",
    "Re:&emsp;&emsp;&ensp;&nbsp;A short description & review of Pandas Profiling"
   ]
  },
  {
   "attachments": {},
   "cell_type": "markdown",
   "id": "3bacba00",
   "metadata": {},
   "source": [
    "## Testing Pandas Profiling Library For E.D.A.\n",
    "\n",
    "### Executive Summary\n",
    "\n",
    "- I recommend using `Pandas Profiling` library when possible.\n",
    "\n",
    "- Its benefits are a consistent and comprehensive EDA can be completed with one command that can produce .html or .ipynb reports.\n",
    "  \n",
    "- Secondly, I recommend that a search for EDA packages to examined for future work.\n",
    "\n",
    "---\n",
    "\n",
    "## Introduction\n",
    "\n",
    "- The Pandas Profiling library was set to produce only a report via HTML at [Report](../assets/churn_eda_profiling_report.html).\n",
    "\n",
    "- This [Pandas Profiling library](https://ydata-profiling.ydata.ai/docs/master/index.html) is very easy to use and provides all the basic information of 80% of most exploratory data analyses.\n",
    "\n",
    "- One aspect that was particalerly useful was a set of warnings given for example, high correlation between variables, or warnings for data imbalance."
   ]
  },
  {
   "cell_type": "code",
   "execution_count": 1,
   "id": "c9c9129c",
   "metadata": {},
   "outputs": [
    {
     "data": {
      "application/vnd.jupyter.widget-view+json": {
       "model_id": "d093c94ebeeb4d78ba39bf16cfb584e0",
       "version_major": 2,
       "version_minor": 0
      },
      "text/plain": [
       "Summarize dataset:   0%|          | 0/5 [00:00<?, ?it/s]"
      ]
     },
     "metadata": {},
     "output_type": "display_data"
    },
    {
     "name": "stderr",
     "output_type": "stream",
     "text": [
      "/home/mcc/anaconda3/lib/python3.9/site-packages/ydata_profiling/model/pandas/correlations_pandas.py:36: FutureWarning: The default value of numeric_only in DataFrame.corr is deprecated. In a future version, it will default to False. Select only valid columns or specify the value of numeric_only to silence this warning.\n",
      "  return df.corr(method=\"pearson\")\n"
     ]
    },
    {
     "data": {
      "application/vnd.jupyter.widget-view+json": {
       "model_id": "f2fd50db90d34a23982ce2fde8bec2bc",
       "version_major": 2,
       "version_minor": 0
      },
      "text/plain": [
       "Generate report structure:   0%|          | 0/1 [00:00<?, ?it/s]"
      ]
     },
     "metadata": {},
     "output_type": "display_data"
    },
    {
     "data": {
      "application/vnd.jupyter.widget-view+json": {
       "model_id": "a680b9a8243c4a90b45ddb203aad2957",
       "version_major": 2,
       "version_minor": 0
      },
      "text/plain": [
       "Render HTML:   0%|          | 0/1 [00:00<?, ?it/s]"
      ]
     },
     "metadata": {},
     "output_type": "display_data"
    },
    {
     "name": "stderr",
     "output_type": "stream",
     "text": [
      "/home/mcc/anaconda3/lib/python3.9/site-packages/ydata_profiling/profile_report.py:352: UserWarning: Extension  not supported. For now we assume .html was intended. To remove this warning, please use .html or .json.\n",
      "  warnings.warn(\n"
     ]
    },
    {
     "data": {
      "application/vnd.jupyter.widget-view+json": {
       "model_id": "ad4e2d57bc62498b975417c5ba7a8df3",
       "version_major": 2,
       "version_minor": 0
      },
      "text/plain": [
       "Export report to file:   0%|          | 0/1 [00:00<?, ?it/s]"
      ]
     },
     "metadata": {},
     "output_type": "display_data"
    }
   ],
   "source": [
    "import numpy as np \n",
    "import pandas as pd\n",
    "\n",
    "# conda install -c conda-forge ydata-profiling\n",
    "# pip install -U ydata-profiling[notebook]\n",
    "from ydata_profiling import ProfileReport\n",
    "\n",
    "# test on raw dataset \"churn.all2\"\n",
    "df = pd.read_csv('../data/raw/churn.all2')\n",
    "\n",
    "churn_report = ProfileReport(df, config_file='../assets/config_default.yml')\n",
    "\n",
    "churn_report.to_file('churn_report')"
   ]
  }
 ],
 "metadata": {
  "kernelspec": {
   "display_name": "base",
   "language": "python",
   "name": "python3"
  },
  "language_info": {
   "codemirror_mode": {
    "name": "ipython",
    "version": 3
   },
   "file_extension": ".py",
   "mimetype": "text/x-python",
   "name": "python",
   "nbconvert_exporter": "python",
   "pygments_lexer": "ipython3",
   "version": "3.9.16"
  },
  "toc": {
   "base_numbering": 1,
   "nav_menu": {},
   "number_sections": true,
   "sideBar": true,
   "skip_h1_title": true,
   "title_cell": "Table of Contents",
   "title_sidebar": "Contents",
   "toc_cell": true,
   "toc_position": {},
   "toc_section_display": true,
   "toc_window_display": false
  },
  "varInspector": {
   "cols": {
    "lenName": 16,
    "lenType": 16,
    "lenVar": 40
   },
   "kernels_config": {
    "python": {
     "delete_cmd_postfix": "",
     "delete_cmd_prefix": "del ",
     "library": "var_list.py",
     "varRefreshCmd": "print(var_dic_list())"
    },
    "r": {
     "delete_cmd_postfix": ") ",
     "delete_cmd_prefix": "rm(",
     "library": "var_list.r",
     "varRefreshCmd": "cat(var_dic_list()) "
    }
   },
   "types_to_exclude": [
    "module",
    "function",
    "builtin_function_or_method",
    "instance",
    "_Feature"
   ],
   "window_display": false
  },
  "vscode": {
   "interpreter": {
    "hash": "ee253db64471d3bc5400655757329a6a33de9a5ca06cae94740881a9d5095460"
   }
  }
 },
 "nbformat": 4,
 "nbformat_minor": 5
}
